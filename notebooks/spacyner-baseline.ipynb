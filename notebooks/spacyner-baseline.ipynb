{
 "cells": [
  {
   "cell_type": "code",
   "execution_count": 33,
   "id": "6b8544dd",
   "metadata": {},
   "outputs": [
    {
     "name": "stdout",
     "output_type": "stream",
     "text": [
      "\u001b[33mDEPRECATION: Loading egg at /home/evgeniy/.local/bin/miniconda3/envs/nlp-env/lib/python3.11/site-packages/huggingface_hub-0.18.0-py3.8.egg is deprecated. pip 24.3 will enforce this behaviour change. A possible replacement is to use pip for package installation.. Discussion can be found at https://github.com/pypa/pip/issues/12330\u001b[0m\u001b[33m\n",
      "\u001b[0mCollecting ru-core-news-md==3.5.0\n",
      "  Downloading https://github.com/explosion/spacy-models/releases/download/ru_core_news_md-3.5.0/ru_core_news_md-3.5.0-py3-none-any.whl (41.9 MB)\n",
      "\u001b[2K     \u001b[90m━━━━━━━━━━━━━━━━━━━━━━━━━━━━━━━━━━━━━━━━\u001b[0m \u001b[32m41.9/41.9 MB\u001b[0m \u001b[31m9.9 MB/s\u001b[0m eta \u001b[36m0:00:00\u001b[0m:00:01\u001b[0m00:01\u001b[0m\n",
      "\u001b[?25hRequirement already satisfied: spacy<3.6.0,>=3.5.0 in /home/evgeniy/.local/bin/miniconda3/envs/nlp-env/lib/python3.11/site-packages (from ru-core-news-md==3.5.0) (3.5.3)\n",
      "Requirement already satisfied: pymorphy3>=1.0.0 in /home/evgeniy/.local/bin/miniconda3/envs/nlp-env/lib/python3.11/site-packages (from ru-core-news-md==3.5.0) (1.2.1)\n",
      "Requirement already satisfied: dawg-python>=0.7.1 in /home/evgeniy/.local/bin/miniconda3/envs/nlp-env/lib/python3.11/site-packages (from pymorphy3>=1.0.0->ru-core-news-md==3.5.0) (0.7.2)\n",
      "Requirement already satisfied: docopt-ng>=0.6 in /home/evgeniy/.local/bin/miniconda3/envs/nlp-env/lib/python3.11/site-packages (from pymorphy3>=1.0.0->ru-core-news-md==3.5.0) (0.9.0)\n",
      "Requirement already satisfied: pymorphy3-dicts-ru in /home/evgeniy/.local/bin/miniconda3/envs/nlp-env/lib/python3.11/site-packages (from pymorphy3>=1.0.0->ru-core-news-md==3.5.0) (2.4.417150.4580142)\n",
      "Requirement already satisfied: spacy-legacy<3.1.0,>=3.0.11 in /home/evgeniy/.local/bin/miniconda3/envs/nlp-env/lib/python3.11/site-packages (from spacy<3.6.0,>=3.5.0->ru-core-news-md==3.5.0) (3.0.12)\n",
      "Requirement already satisfied: spacy-loggers<2.0.0,>=1.0.0 in /home/evgeniy/.local/bin/miniconda3/envs/nlp-env/lib/python3.11/site-packages (from spacy<3.6.0,>=3.5.0->ru-core-news-md==3.5.0) (1.0.4)\n",
      "Requirement already satisfied: murmurhash<1.1.0,>=0.28.0 in /home/evgeniy/.local/bin/miniconda3/envs/nlp-env/lib/python3.11/site-packages (from spacy<3.6.0,>=3.5.0->ru-core-news-md==3.5.0) (1.0.7)\n",
      "Requirement already satisfied: cymem<2.1.0,>=2.0.2 in /home/evgeniy/.local/bin/miniconda3/envs/nlp-env/lib/python3.11/site-packages (from spacy<3.6.0,>=3.5.0->ru-core-news-md==3.5.0) (2.0.6)\n",
      "Requirement already satisfied: preshed<3.1.0,>=3.0.2 in /home/evgeniy/.local/bin/miniconda3/envs/nlp-env/lib/python3.11/site-packages (from spacy<3.6.0,>=3.5.0->ru-core-news-md==3.5.0) (3.0.6)\n",
      "Requirement already satisfied: thinc<8.2.0,>=8.1.8 in /home/evgeniy/.local/bin/miniconda3/envs/nlp-env/lib/python3.11/site-packages (from spacy<3.6.0,>=3.5.0->ru-core-news-md==3.5.0) (8.1.10)\n",
      "Requirement already satisfied: wasabi<1.2.0,>=0.9.1 in /home/evgeniy/.local/bin/miniconda3/envs/nlp-env/lib/python3.11/site-packages (from spacy<3.6.0,>=3.5.0->ru-core-news-md==3.5.0) (0.9.1)\n",
      "Requirement already satisfied: srsly<3.0.0,>=2.4.3 in /home/evgeniy/.local/bin/miniconda3/envs/nlp-env/lib/python3.11/site-packages (from spacy<3.6.0,>=3.5.0->ru-core-news-md==3.5.0) (2.4.6)\n",
      "Requirement already satisfied: catalogue<2.1.0,>=2.0.6 in /home/evgeniy/.local/bin/miniconda3/envs/nlp-env/lib/python3.11/site-packages (from spacy<3.6.0,>=3.5.0->ru-core-news-md==3.5.0) (2.0.7)\n",
      "Requirement already satisfied: typer<0.8.0,>=0.3.0 in /home/evgeniy/.local/bin/miniconda3/envs/nlp-env/lib/python3.11/site-packages (from spacy<3.6.0,>=3.5.0->ru-core-news-md==3.5.0) (0.4.1)\n",
      "Requirement already satisfied: pathy>=0.10.0 in /home/evgeniy/.local/bin/miniconda3/envs/nlp-env/lib/python3.11/site-packages (from spacy<3.6.0,>=3.5.0->ru-core-news-md==3.5.0) (0.10.1)\n",
      "Requirement already satisfied: smart-open<7.0.0,>=5.2.1 in /home/evgeniy/.local/bin/miniconda3/envs/nlp-env/lib/python3.11/site-packages (from spacy<3.6.0,>=3.5.0->ru-core-news-md==3.5.0) (5.2.1)\n",
      "Requirement already satisfied: tqdm<5.0.0,>=4.38.0 in /home/evgeniy/.local/bin/miniconda3/envs/nlp-env/lib/python3.11/site-packages (from spacy<3.6.0,>=3.5.0->ru-core-news-md==3.5.0) (4.65.0)\n",
      "Requirement already satisfied: numpy>=1.15.0 in /home/evgeniy/.local/bin/miniconda3/envs/nlp-env/lib/python3.11/site-packages (from spacy<3.6.0,>=3.5.0->ru-core-news-md==3.5.0) (1.26.0)\n",
      "Requirement already satisfied: requests<3.0.0,>=2.13.0 in /home/evgeniy/.local/bin/miniconda3/envs/nlp-env/lib/python3.11/site-packages (from spacy<3.6.0,>=3.5.0->ru-core-news-md==3.5.0) (2.31.0)\n",
      "Requirement already satisfied: pydantic!=1.8,!=1.8.1,<1.11.0,>=1.7.4 in /home/evgeniy/.local/bin/miniconda3/envs/nlp-env/lib/python3.11/site-packages (from spacy<3.6.0,>=3.5.0->ru-core-news-md==3.5.0) (1.10.12)\n",
      "Requirement already satisfied: jinja2 in /home/evgeniy/.local/bin/miniconda3/envs/nlp-env/lib/python3.11/site-packages (from spacy<3.6.0,>=3.5.0->ru-core-news-md==3.5.0) (3.1.2)\n",
      "Requirement already satisfied: setuptools in /home/evgeniy/.local/bin/miniconda3/envs/nlp-env/lib/python3.11/site-packages (from spacy<3.6.0,>=3.5.0->ru-core-news-md==3.5.0) (68.0.0)\n",
      "Requirement already satisfied: packaging>=20.0 in /home/evgeniy/.local/bin/miniconda3/envs/nlp-env/lib/python3.11/site-packages (from spacy<3.6.0,>=3.5.0->ru-core-news-md==3.5.0) (23.1)\n",
      "Requirement already satisfied: langcodes<4.0.0,>=3.2.0 in /home/evgeniy/.local/bin/miniconda3/envs/nlp-env/lib/python3.11/site-packages (from spacy<3.6.0,>=3.5.0->ru-core-news-md==3.5.0) (3.3.0)\n",
      "Requirement already satisfied: typing-extensions>=4.2.0 in /home/evgeniy/.local/bin/miniconda3/envs/nlp-env/lib/python3.11/site-packages (from pydantic!=1.8,!=1.8.1,<1.11.0,>=1.7.4->spacy<3.6.0,>=3.5.0->ru-core-news-md==3.5.0) (4.7.1)\n",
      "Requirement already satisfied: charset-normalizer<4,>=2 in /home/evgeniy/.local/bin/miniconda3/envs/nlp-env/lib/python3.11/site-packages (from requests<3.0.0,>=2.13.0->spacy<3.6.0,>=3.5.0->ru-core-news-md==3.5.0) (2.0.4)\n",
      "Requirement already satisfied: idna<4,>=2.5 in /home/evgeniy/.local/bin/miniconda3/envs/nlp-env/lib/python3.11/site-packages (from requests<3.0.0,>=2.13.0->spacy<3.6.0,>=3.5.0->ru-core-news-md==3.5.0) (3.4)\n",
      "Requirement already satisfied: urllib3<3,>=1.21.1 in /home/evgeniy/.local/bin/miniconda3/envs/nlp-env/lib/python3.11/site-packages (from requests<3.0.0,>=2.13.0->spacy<3.6.0,>=3.5.0->ru-core-news-md==3.5.0) (1.26.16)\n",
      "Requirement already satisfied: certifi>=2017.4.17 in /home/evgeniy/.local/bin/miniconda3/envs/nlp-env/lib/python3.11/site-packages (from requests<3.0.0,>=2.13.0->spacy<3.6.0,>=3.5.0->ru-core-news-md==3.5.0) (2023.7.22)\n",
      "Requirement already satisfied: blis<0.8.0,>=0.7.8 in /home/evgeniy/.local/bin/miniconda3/envs/nlp-env/lib/python3.11/site-packages (from thinc<8.2.0,>=8.1.8->spacy<3.6.0,>=3.5.0->ru-core-news-md==3.5.0) (0.7.9)\n",
      "Requirement already satisfied: confection<1.0.0,>=0.0.1 in /home/evgeniy/.local/bin/miniconda3/envs/nlp-env/lib/python3.11/site-packages (from thinc<8.2.0,>=8.1.8->spacy<3.6.0,>=3.5.0->ru-core-news-md==3.5.0) (0.0.4)\n",
      "Requirement already satisfied: click<9.0.0,>=7.1.1 in /home/evgeniy/.local/bin/miniconda3/envs/nlp-env/lib/python3.11/site-packages (from typer<0.8.0,>=0.3.0->spacy<3.6.0,>=3.5.0->ru-core-news-md==3.5.0) (8.0.4)\n",
      "Requirement already satisfied: MarkupSafe>=2.0 in /home/evgeniy/.local/bin/miniconda3/envs/nlp-env/lib/python3.11/site-packages (from jinja2->spacy<3.6.0,>=3.5.0->ru-core-news-md==3.5.0) (2.1.1)\n",
      "Installing collected packages: ru-core-news-md\n",
      "Successfully installed ru-core-news-md-3.5.0\n",
      "\u001b[38;5;2m✔ Download and installation successful\u001b[0m\n",
      "You can now load the package via spacy.load('ru_core_news_md')\n"
     ]
    }
   ],
   "source": [
    "!python -m spacy download ru_core_news_md"
   ]
  },
  {
   "cell_type": "code",
   "execution_count": 34,
   "id": "e920f804",
   "metadata": {},
   "outputs": [
    {
     "name": "stdout",
     "output_type": "stream",
     "text": [
      "\u001b[33mDEPRECATION: Loading egg at /home/evgeniy/.local/bin/miniconda3/envs/nlp-env/lib/python3.11/site-packages/huggingface_hub-0.18.0-py3.8.egg is deprecated. pip 24.3 will enforce this behaviour change. A possible replacement is to use pip for package installation.. Discussion can be found at https://github.com/pypa/pip/issues/12330\u001b[0m\u001b[33m\n",
      "\u001b[0mCollecting uk-core-news-lg==3.5.0\n",
      "  Downloading https://github.com/explosion/spacy-models/releases/download/uk_core_news_lg-3.5.0/uk_core_news_lg-3.5.0-py3-none-any.whl (231.2 MB)\n",
      "\u001b[2K     \u001b[91m━━\u001b[0m\u001b[90m╺\u001b[0m\u001b[90m━━━━━━━━━━━━━━━━━━━━━━━━━━━━━━━━━━━\u001b[0m \u001b[32m14.3/231.2 MB\u001b[0m \u001b[31m104.8 kB/s\u001b[0m eta \u001b[36m0:34:32\u001b[0m^C\n",
      "\u001b[2K     \u001b[91m━━\u001b[0m\u001b[90m╺\u001b[0m\u001b[90m━━━━━━━━━━━━━━━━━━━━━━━━━━━━━━━━━━━\u001b[0m \u001b[32m14.3/231.2 MB\u001b[0m \u001b[31m104.8 kB/s\u001b[0m eta \u001b[36m0:34:32\u001b[0m\n",
      "\u001b[?25h\u001b[31mERROR: Operation cancelled by user\u001b[0m\u001b[31m\n",
      "\u001b[0m"
     ]
    }
   ],
   "source": [
    "!python -m spacy download uk_core_news_lg"
   ]
  },
  {
   "cell_type": "code",
   "execution_count": 1,
   "id": "fb2c7fbd",
   "metadata": {
    "_cell_guid": "b1076dfc-b9ad-4769-8c92-a6c4dae69d19",
    "_uuid": "8f2839f25d086af736a60e9eeb907d3b93b6e0e5",
    "execution": {
     "iopub.execute_input": "2023-10-17T21:02:45.637677Z",
     "iopub.status.busy": "2023-10-17T21:02:45.636835Z",
     "iopub.status.idle": "2023-10-17T21:02:51.970234Z",
     "shell.execute_reply": "2023-10-17T21:02:51.968967Z"
    },
    "papermill": {
     "duration": 6.342765,
     "end_time": "2023-10-17T21:02:51.972774",
     "exception": false,
     "start_time": "2023-10-17T21:02:45.630009",
     "status": "completed"
    },
    "tags": []
   },
   "outputs": [],
   "source": [
    "import pandas as pd\n",
    "import spacy"
   ]
  },
  {
   "cell_type": "code",
   "execution_count": 2,
   "id": "0934cd19",
   "metadata": {},
   "outputs": [],
   "source": [
    "import re\n",
    "from typing import List"
   ]
  },
  {
   "cell_type": "code",
   "execution_count": 4,
   "id": "6d9b82f5",
   "metadata": {
    "execution": {
     "iopub.execute_input": "2023-10-17T21:02:51.984672Z",
     "iopub.status.busy": "2023-10-17T21:02:51.984023Z",
     "iopub.status.idle": "2023-10-17T21:02:53.840743Z",
     "shell.execute_reply": "2023-10-17T21:02:53.839555Z"
    },
    "papermill": {
     "duration": 1.865313,
     "end_time": "2023-10-17T21:02:53.843211",
     "exception": false,
     "start_time": "2023-10-17T21:02:51.977898",
     "status": "completed"
    },
    "tags": []
   },
   "outputs": [
    {
     "data": {
      "text/html": [
       "<div>\n",
       "<style scoped>\n",
       "    .dataframe tbody tr th:only-of-type {\n",
       "        vertical-align: middle;\n",
       "    }\n",
       "\n",
       "    .dataframe tbody tr th {\n",
       "        vertical-align: top;\n",
       "    }\n",
       "\n",
       "    .dataframe thead th {\n",
       "        text-align: right;\n",
       "    }\n",
       "</style>\n",
       "<table border=\"1\" class=\"dataframe\">\n",
       "  <thead>\n",
       "    <tr style=\"text-align: right;\">\n",
       "      <th></th>\n",
       "      <th>text_id</th>\n",
       "      <th>text</th>\n",
       "      <th>locations</th>\n",
       "    </tr>\n",
       "  </thead>\n",
       "  <tbody>\n",
       "    <tr>\n",
       "      <th>37</th>\n",
       "      <td>37</td>\n",
       "      <td>☀️Цього тижня на киян чекає спекотна та сонячн...</td>\n",
       "      <td>[]</td>\n",
       "    </tr>\n",
       "    <tr>\n",
       "      <th>312</th>\n",
       "      <td>312</td>\n",
       "      <td>Ще ракета на Київ.</td>\n",
       "      <td>[]</td>\n",
       "    </tr>\n",
       "    <tr>\n",
       "      <th>242</th>\n",
       "      <td>242</td>\n",
       "      <td>У парку «Центральний» з’явилося в’язане «Волон...</td>\n",
       "      <td>[]</td>\n",
       "    </tr>\n",
       "    <tr>\n",
       "      <th>110</th>\n",
       "      <td>110</td>\n",
       "      <td>Ми продовжуємо знайомити вас із цікавими гастр...</td>\n",
       "      <td>[]</td>\n",
       "    </tr>\n",
       "    <tr>\n",
       "      <th>256</th>\n",
       "      <td>256</td>\n",
       "      <td>⚡️Суд избрал меру пресечения Игорю Коломойском...</td>\n",
       "      <td>[]</td>\n",
       "    </tr>\n",
       "  </tbody>\n",
       "</table>\n",
       "</div>"
      ],
      "text/plain": [
       "     text_id                                               text locations\n",
       "37        37  ☀️Цього тижня на киян чекає спекотна та сонячн...        []\n",
       "312      312                                 Ще ракета на Київ.        []\n",
       "242      242  У парку «Центральний» з’явилося в’язане «Волон...        []\n",
       "110      110  Ми продовжуємо знайомити вас із цікавими гастр...        []\n",
       "256      256  ⚡️Суд избрал меру пресечения Игорю Коломойском...        []"
      ]
     },
     "execution_count": 4,
     "metadata": {},
     "output_type": "execute_result"
    }
   ],
   "source": [
    "nlp_uk = spacy.load(\"uk_core_news_md\")\n",
    "nlp_ru = spacy.load(\"ru_core_news_md\")\n",
    "\n",
    "df_test = pd.read_csv('../data/nlp-ua-locations-extractions/test.csv')\n",
    "df_test.sample(5)"
   ]
  },
  {
   "cell_type": "code",
   "execution_count": 7,
   "metadata": {},
   "outputs": [],
   "source": [
    "doc = nlp_uk(df_test.loc[129, \"text\"])"
   ]
  },
  {
   "cell_type": "code",
   "execution_count": 4,
   "id": "7057bf8b",
   "metadata": {},
   "outputs": [],
   "source": [
    "df_val = pd.read_csv('data/mantis_analytics_location_detection/labeling_sample.csv', converters={\"locations\": eval})"
   ]
  },
  {
   "cell_type": "code",
   "execution_count": 5,
   "id": "f2577a93",
   "metadata": {},
   "outputs": [],
   "source": [
    "def predict(x):\n",
    "    return [str(e) for e in nlp_uk(x).ents if e.label_ == \"LOC\"] + [str(e) for e in nlp_ru(x).ents if e.label_ == \"LOC\"]"
   ]
  },
  {
   "cell_type": "code",
   "execution_count": 6,
   "id": "dcb170cc",
   "metadata": {},
   "outputs": [],
   "source": [
    "df_val['locations_pred'] = df_val['text'].apply(predict)"
   ]
  },
  {
   "cell_type": "code",
   "execution_count": 23,
   "id": "d1c9753a",
   "metadata": {},
   "outputs": [],
   "source": [
    "def hard_processing(text):\n",
    "    text = re.sub(r\"[{re.escape(string.punctuation)}]\", \"\", text)\n",
    "    text = re.sub(r'\\d', '', text)\n",
    "    text = re.sub(r'\\b\\w\\b\\s?', '', text)\n",
    "    text = re.sub(r'\\s+', ' ', text).strip()\n",
    "    return text.lower()\n",
    "\n",
    "def comp_metric(y_true: List[List[str]], y_pred: List[List[str]]):\n",
    "    assert len(y_true) == len(y_pred)\n",
    "    tp, fp, fn, p,  = 0.0, 0.0, 0.0, 0.0\n",
    "\n",
    "    for y_true_sample, y_pred_sample in zip(y_true, y_pred):\n",
    "        y_true_sample = set([hard_processing(s) for s in y_true_sample])\n",
    "        y_pred_sample = set([hard_processing(s) for s in y_pred_sample])\n",
    "\n",
    "        tp += len(y_true_sample & y_pred_sample)\n",
    "        fp += len(y_pred_sample - y_true_sample)\n",
    "        fn += len(y_true_sample - y_pred_sample)\n",
    "        p += len(y_true_sample)\n",
    "\n",
    "        assert p == tp + fn\n",
    "\n",
    "    if tp + fp == 0:\n",
    "        if p == 0:\n",
    "            precision = 1.0\n",
    "        else:\n",
    "            precision = 0.0\n",
    "    else:\n",
    "        precision = tp/(tp + fp)\n",
    "\n",
    "    if tp + fn == 0:\n",
    "        if p == 0:\n",
    "            recall = 1.0\n",
    "        else:\n",
    "            recall = 0.0\n",
    "    else:\n",
    "        recall = tp/(tp + fn)\n",
    "\n",
    "    if precision + recall == 0:\n",
    "        f1 = 0\n",
    "    else:\n",
    "        f1 = 2 * precision * recall / (precision + recall)\n",
    "    \n",
    "    # print(precision, recall)\n",
    "    return round(f1, 8)\n"
   ]
  },
  {
   "cell_type": "code",
   "execution_count": 15,
   "id": "5e6c4637",
   "metadata": {},
   "outputs": [],
   "source": [
    "def local_f1(y_true, y_pred):\n",
    "    y_true_sample = set([hard_processing(s) for s in y_true])\n",
    "    y_pred_sample = set([hard_processing(s) for s in y_pred])\n",
    "\n",
    "    tp = len(y_true_sample & y_pred_sample)\n",
    "    fp = len(y_pred_sample - y_true_sample)\n",
    "    fn = len(y_true_sample - y_pred_sample)\n",
    "    p = len(y_true_sample)\n",
    "    assert p == tp + fn\n",
    "\n",
    "    if tp + fp == 0:\n",
    "        if p == 0:\n",
    "            precision = 1.0\n",
    "        else:\n",
    "            precision = 0.0\n",
    "    else:\n",
    "        precision = tp/(tp + fp)\n",
    "\n",
    "    if tp + fn == 0:\n",
    "        if p == 0:\n",
    "            recall = 1.0\n",
    "        else:\n",
    "            recall = 0.0\n",
    "    else:\n",
    "        recall = tp/(tp + fn)\n",
    "\n",
    "    if precision + recall == 0:\n",
    "        f1 = 0\n",
    "    else:\n",
    "        f1 = 2 * precision * recall / (precision + recall)\n",
    "    \n",
    "    # print(precision, recall)\n",
    "    return round(f1, 8)\n"
   ]
  },
  {
   "cell_type": "code",
   "execution_count": 24,
   "id": "49820759",
   "metadata": {},
   "outputs": [],
   "source": [
    "df_val['local_f1'] = df_val[['locations', 'locations_pred']].apply(lambda x: local_f1(x['locations'], x['locations_pred']), axis=1)"
   ]
  },
  {
   "cell_type": "code",
   "execution_count": 25,
   "id": "1370cb1e",
   "metadata": {},
   "outputs": [
    {
     "data": {
      "text/plain": [
       "0.64367816"
      ]
     },
     "execution_count": 25,
     "metadata": {},
     "output_type": "execute_result"
    }
   ],
   "source": [
    "comp_metric(df_val['locations'], df_val['locations_pred'])"
   ]
  },
  {
   "cell_type": "code",
   "execution_count": 28,
   "id": "2e53b2bc",
   "metadata": {},
   "outputs": [],
   "source": [
    "def comp_metric(y_true: List[List[str]], y_pred: List[List[str]]):\n",
    "    assert len(y_true) == len(y_pred)\n",
    "    tp, fp, fn = 0.0, 0.0, 0.0\n",
    "\n",
    "    for y_true_sample, y_pred_sample in zip(y_true, y_pred):\n",
    "        y_true_sample = set([hard_processing(s) for s in y_true_sample])\n",
    "        y_pred_sample = set([hard_processing(s) for s in y_pred_sample])\n",
    "        tp += len(set(y_true_sample) & set(y_pred_sample))\n",
    "        fp += len(set(y_pred_sample) - set(y_true_sample))\n",
    "        fn += len(set(y_true_sample) - set(y_pred_sample))\n",
    "    \n",
    "    precision = tp / (tp + fp) if tp + fp != 0 else 0.0 if tp + fn != 0.0 else 1.0\n",
    "    recall = tp / (tp + fn) if tp + fn != 0 else 1.0\n",
    "    f1 = 2 * precision * recall / (precision + recall) if precision + recall != 0 else 0.0\n",
    "\n",
    "    return {\n",
    "        \"precision\": precision,\n",
    "        \"recall\": recall,\n",
    "        \"f1\": f1\n",
    "    }"
   ]
  },
  {
   "cell_type": "code",
   "execution_count": 29,
   "id": "a16e5321",
   "metadata": {},
   "outputs": [
    {
     "data": {
      "text/plain": [
       "{'precision': 0.509090909090909, 'recall': 0.875, 'f1': 0.6436781609195402}"
      ]
     },
     "execution_count": 29,
     "metadata": {},
     "output_type": "execute_result"
    }
   ],
   "source": [
    "comp_metric(df_val['locations'], df_val['locations_pred'])"
   ]
  },
  {
   "cell_type": "code",
   "execution_count": 43,
   "id": "ffdc9dca",
   "metadata": {},
   "outputs": [],
   "source": [
    "df_test['locations'] = df_test['text'].apply(predict)"
   ]
  },
  {
   "cell_type": "code",
   "execution_count": 44,
   "id": "2f4fedec",
   "metadata": {},
   "outputs": [],
   "source": [
    "df_test[['text_id', 'locations']].to_csv('spacy_ukru_baseline.csv', index=False)"
   ]
  },
  {
   "cell_type": "markdown",
   "id": "71fff532",
   "metadata": {},
   "source": [
    "## With langdetect"
   ]
  },
  {
   "cell_type": "code",
   "execution_count": 60,
   "id": "a021ddaf",
   "metadata": {},
   "outputs": [],
   "source": [
    "import langid"
   ]
  },
  {
   "cell_type": "code",
   "execution_count": 61,
   "id": "e1fd02e8",
   "metadata": {},
   "outputs": [],
   "source": [
    "langid.set_languages(['ru', 'uk'])"
   ]
  },
  {
   "cell_type": "code",
   "execution_count": 62,
   "id": "44306acd",
   "metadata": {},
   "outputs": [],
   "source": [
    "df_test['lang'] = df_test['text'].apply(lambda x: langid.classify(x)[0])"
   ]
  },
  {
   "cell_type": "code",
   "execution_count": 78,
   "id": "33564cbc",
   "metadata": {},
   "outputs": [],
   "source": [
    "import emoji"
   ]
  },
  {
   "cell_type": "code",
   "execution_count": 82,
   "id": "513a5486",
   "metadata": {},
   "outputs": [],
   "source": [
    "def contains_emoji(text):\n",
    "    for char in text:\n",
    "        if emoji.is_emoji(char):\n",
    "            return True\n",
    "    else:\n",
    "        return False"
   ]
  },
  {
   "cell_type": "code",
   "execution_count": 95,
   "id": "2fd5f501",
   "metadata": {},
   "outputs": [],
   "source": [
    "def predict(x):\n",
    "    lang = None\n",
    "    try:\n",
    "        lang = langid.classify(x)[0]\n",
    "    except:\n",
    "        pass\n",
    "\n",
    "    if lang == 'ru':\n",
    "        res = [str(e) for e in nlp_ru(x).ents if e.label_ == \"LOC\" and not contains_emoji(str(e))]\n",
    "    else:\n",
    "        res = [str(e) for e in nlp_uk(x).ents if e.label_ == \"LOC\" and not contains_emoji(str(e))]\n",
    "    \n",
    "    return res\n"
   ]
  },
  {
   "cell_type": "code",
   "execution_count": 96,
   "id": "c6df683b",
   "metadata": {},
   "outputs": [],
   "source": [
    "df_test['locations'] = df_test['text'].apply(predict)"
   ]
  },
  {
   "cell_type": "code",
   "execution_count": 97,
   "id": "df0d9273",
   "metadata": {},
   "outputs": [],
   "source": [
    "df_test[['text_id', 'locations']].to_csv('spacy_ukru.csv', index=False)"
   ]
  },
  {
   "cell_type": "code",
   "execution_count": 98,
   "id": "0c032b67",
   "metadata": {},
   "outputs": [
    {
     "data": {
      "text/html": [
       "<div>\n",
       "<style scoped>\n",
       "    .dataframe tbody tr th:only-of-type {\n",
       "        vertical-align: middle;\n",
       "    }\n",
       "\n",
       "    .dataframe tbody tr th {\n",
       "        vertical-align: top;\n",
       "    }\n",
       "\n",
       "    .dataframe thead th {\n",
       "        text-align: right;\n",
       "    }\n",
       "</style>\n",
       "<table border=\"1\" class=\"dataframe\">\n",
       "  <thead>\n",
       "    <tr style=\"text-align: right;\">\n",
       "      <th></th>\n",
       "      <th>text_id</th>\n",
       "      <th>text</th>\n",
       "      <th>locations</th>\n",
       "      <th>lang</th>\n",
       "    </tr>\n",
       "  </thead>\n",
       "  <tbody>\n",
       "    <tr>\n",
       "      <th>0</th>\n",
       "      <td>0</td>\n",
       "      <td>❗️Кількість поранених зросла до трьох, – Кличк...</td>\n",
       "      <td>[Київ]</td>\n",
       "      <td>uk</td>\n",
       "    </tr>\n",
       "    <tr>\n",
       "      <th>1</th>\n",
       "      <td>1</td>\n",
       "      <td>🥤В Києві за 91,13 млн гривень починаються робо...</td>\n",
       "      <td>[Києві, Шулявського шляхопроводу, Шулявського ...</td>\n",
       "      <td>uk</td>\n",
       "    </tr>\n",
       "    <tr>\n",
       "      <th>2</th>\n",
       "      <td>2</td>\n",
       "      <td>▪️Сьогодні вночі росіяни завдали ракетного уда...</td>\n",
       "      <td>[Гоголеве, Миргородського району, Полтавської ...</td>\n",
       "      <td>uk</td>\n",
       "    </tr>\n",
       "    <tr>\n",
       "      <th>3</th>\n",
       "      <td>3</td>\n",
       "      <td>Наразі у запасах росіян найбільше балістичних ...</td>\n",
       "      <td>[]</td>\n",
       "      <td>uk</td>\n",
       "    </tr>\n",
       "    <tr>\n",
       "      <th>4</th>\n",
       "      <td>4</td>\n",
       "      <td>⛸В один день, 29 серпня, ДП \"Центральна учбово...</td>\n",
       "      <td>[проспекті Академіка Глушкова, 9]</td>\n",
       "      <td>uk</td>\n",
       "    </tr>\n",
       "    <tr>\n",
       "      <th>...</th>\n",
       "      <td>...</td>\n",
       "      <td>...</td>\n",
       "      <td>...</td>\n",
       "      <td>...</td>\n",
       "    </tr>\n",
       "    <tr>\n",
       "      <th>472</th>\n",
       "      <td>472</td>\n",
       "      <td>Допомога на відновлення: п’ять громад Київщини...</td>\n",
       "      <td>[Київщини, Україні, Київської області, Бучансь...</td>\n",
       "      <td>uk</td>\n",
       "    </tr>\n",
       "    <tr>\n",
       "      <th>473</th>\n",
       "      <td>473</td>\n",
       "      <td>Пророцтво Стругацьких: незвичайна бактерія Бра...</td>\n",
       "      <td>[Землі, Червоне кільце]</td>\n",
       "      <td>uk</td>\n",
       "    </tr>\n",
       "    <tr>\n",
       "      <th>474</th>\n",
       "      <td>474</td>\n",
       "      <td>Із 1 вересня УГКЦ і ПЦУ перейшли на новий церк...</td>\n",
       "      <td>[]</td>\n",
       "      <td>uk</td>\n",
       "    </tr>\n",
       "    <tr>\n",
       "      <th>475</th>\n",
       "      <td>475</td>\n",
       "      <td>🦇 У Києві з Дніпра виловили іноземця в масці Б...</td>\n",
       "      <td>[Києві, Дніпра, Дніпро]</td>\n",
       "      <td>uk</td>\n",
       "    </tr>\n",
       "    <tr>\n",
       "      <th>476</th>\n",
       "      <td>476</td>\n",
       "      <td>У Києві виявили парковку з машинами на мільйон...</td>\n",
       "      <td>[Києві, Київ]</td>\n",
       "      <td>uk</td>\n",
       "    </tr>\n",
       "  </tbody>\n",
       "</table>\n",
       "<p>477 rows × 4 columns</p>\n",
       "</div>"
      ],
      "text/plain": [
       "     text_id                                               text  \\\n",
       "0          0  ❗️Кількість поранених зросла до трьох, – Кличк...   \n",
       "1          1  🥤В Києві за 91,13 млн гривень починаються робо...   \n",
       "2          2  ▪️Сьогодні вночі росіяни завдали ракетного уда...   \n",
       "3          3  Наразі у запасах росіян найбільше балістичних ...   \n",
       "4          4  ⛸В один день, 29 серпня, ДП \"Центральна учбово...   \n",
       "..       ...                                                ...   \n",
       "472      472  Допомога на відновлення: п’ять громад Київщини...   \n",
       "473      473  Пророцтво Стругацьких: незвичайна бактерія Бра...   \n",
       "474      474  Із 1 вересня УГКЦ і ПЦУ перейшли на новий церк...   \n",
       "475      475  🦇 У Києві з Дніпра виловили іноземця в масці Б...   \n",
       "476      476  У Києві виявили парковку з машинами на мільйон...   \n",
       "\n",
       "                                             locations lang  \n",
       "0                                               [Київ]   uk  \n",
       "1    [Києві, Шулявського шляхопроводу, Шулявського ...   uk  \n",
       "2    [Гоголеве, Миргородського району, Полтавської ...   uk  \n",
       "3                                                   []   uk  \n",
       "4                    [проспекті Академіка Глушкова, 9]   uk  \n",
       "..                                                 ...  ...  \n",
       "472  [Київщини, Україні, Київської області, Бучансь...   uk  \n",
       "473                            [Землі, Червоне кільце]   uk  \n",
       "474                                                 []   uk  \n",
       "475                            [Києві, Дніпра, Дніпро]   uk  \n",
       "476                                      [Києві, Київ]   uk  \n",
       "\n",
       "[477 rows x 4 columns]"
      ]
     },
     "execution_count": 98,
     "metadata": {},
     "output_type": "execute_result"
    }
   ],
   "source": [
    "df_test"
   ]
  },
  {
   "cell_type": "code",
   "execution_count": 99,
   "id": "7788e85b",
   "metadata": {},
   "outputs": [
    {
     "data": {
      "text/plain": [
       "array([[0,\n",
       "        '❗️Кількість поранених зросла до трьох, – Кличко\\n\\nКиїв — пряма трансляція 👈',\n",
       "        list(['Київ']), 'uk'],\n",
       "       [1,\n",
       "        '🥤В Києві за 91,13 млн гривень починаються роботи зі знесення будівлі цеху №5 заводу “Більшовик”, які необхідні для продовження реконструкції “Шулявського шляхопроводу”.\\n\\n🤝Договір на проведення цих робіт КП \"Дирекція будівництва шляхово-транспортних споруд Києва\" уклало з ТОВ “Мостицький-2”, відхиливши вигіднішу пропозицію в тендері.\\n\\n🧐“Мостицький-2” відоме як постійний генпідрядник будівництва скандальних житлових комплексів Edelburg Development, яке пов\\'язують з сином екс-мера столиці Леоніда Черновецького Степаном👤. \\n\\nЦі компанії тісно сплетені бізнесовими та навіть родинними нитями👨\\u200d👩\\u200d👧\\u200d👦.\\n🧶Водночас зв\\'язки обраного для знесення цеху підрядника ведуть до ще однієї одіозної фігури - сумнозвісного столичного забудовника Максима Микитася, компанія з орбіти якого майже за 1,5 млрд гривень власне займається всією реконструкцією Шулявського шляхопроводу🏗',\n",
       "        list(['Києві', 'Шулявського шляхопроводу', 'Шулявського шляхопроводу']),\n",
       "        'uk'],\n",
       "       [2,\n",
       "        '▪️Сьогодні вночі росіяни завдали ракетного удару по селищу Гоголеве, Миргородського району Полтавської області - Офіс Президента. \\n\\n▪️Загинуло двоє людей\\n\\n💬\"Унаслідок вибуху виникло загоряння приміщення олійниці. Наразі відомо про загибель двох людей та 5 постраждалих. Люди працювали в нічну зміну\", - повідомив Андрій Єрмак.',\n",
       "        list(['Гоголеве', 'Миргородського району', 'Полтавської області']),\n",
       "        'uk'],\n",
       "       ...,\n",
       "       [474,\n",
       "        'Із 1 вересня УГКЦ і ПЦУ перейшли на новий церковний календар.\\n\\nІз 1 вересня Українська греко-католицька церква та Православна церква України перейшли на новий календар для нерухомих свят.\\n\\n⭐️ Відтепер Великдень та пов’язанні з ним свята святкуватимуть так, як і зараз. \\n\\n💫Натомість усі свята зі сталими датами відзначатимуть за новим календарем.',\n",
       "        list([]), 'uk'],\n",
       "       [475,\n",
       "        '🦇 У Києві з Дніпра виловили іноземця в масці Бетмена \\n\\nСвідок повідомив, що посеред ріки з останніх сил тримається на воді чоловік.\\xa0\\n\\n«Бетмен» хотів переплисти Дніпро в масці супергероя, але течія виявилася йому не під силу.\\n\\nЧитайте новину за посиланням',\n",
       "        list(['Києві', 'Дніпра', 'Дніпро']), 'uk'],\n",
       "       [476,\n",
       "        'У Києві виявили парковку з машинами на мільйон доларів \\n\\nНа стоянці – суперкари McLaren 720S, Lamborghini Gallardo і Huracan. Усі ці 3 екзотичні й неймовірно дорогі авто можуть розігнатись зі швидкість понад 300 км/год.\\n\\nНайдорожчий — McLaren 720S із тюнінгом вартістю близько півмільйона доларів. Близько 300 тис. доларів коштує Lamborghini Huracan Evo. А Lamborghini Gallardo можна купити за ціною 150-200 тис. доларів.\\n\\nХуйовий Київ | Надіслати новину',\n",
       "        list(['Києві', 'Київ']), 'uk']], dtype=object)"
      ]
     },
     "execution_count": 99,
     "metadata": {},
     "output_type": "execute_result"
    }
   ],
   "source": [
    "df_test.values"
   ]
  },
  {
   "cell_type": "code",
   "execution_count": 53,
   "id": "4585fdbc",
   "metadata": {},
   "outputs": [
    {
     "data": {
      "text/plain": [
       "<Axes: xlabel='lang'>"
      ]
     },
     "execution_count": 53,
     "metadata": {},
     "output_type": "execute_result"
    },
    {
     "data": {
      "image/png": "[encoded data removed]",
      "text/plain": [
       "<Figure size 640x480 with 1 Axes>"
      ]
     },
     "metadata": {},
     "output_type": "display_data"
    }
   ],
   "source": [
    "df_test['lang'].value_counts().plot.bar()"
   ]
  },
  {
   "cell_type": "code",
   "execution_count": 54,
   "id": "e6bfc0c2",
   "metadata": {},
   "outputs": [],
   "source": [
    "df_test[['text_id', 'text', 'lang', 'locations']].to_csv('for_inspection.csv', index=False)"
   ]
  },
  {
   "cell_type": "code",
   "execution_count": null,
   "id": "2828f6e7",
   "metadata": {},
   "outputs": [],
   "source": []
  },
  {
   "cell_type": "code",
   "execution_count": null,
   "id": "768229b3",
   "metadata": {},
   "outputs": [],
   "source": []
  }
 ],
 "metadata": {
  "kernelspec": {
   "display_name": "Python 3",
   "language": "python",
   "name": "python3"
  },
  "language_info": {
   "codemirror_mode": {
    "name": "ipython",
    "version": 3
   },
   "file_extension": ".py",
   "mimetype": "text/x-python",
   "name": "python",
   "nbconvert_exporter": "python",
   "pygments_lexer": "ipython3",
   "version": "3.11.5"
  },
  "papermill": {
   "default_parameters": {},
   "duration": 65.414834,
   "end_time": "2023-10-17T21:03:12.743191",
   "environment_variables": {},
   "exception": null,
   "input_path": "__notebook__.ipynb",
   "output_path": "__notebook__.ipynb",
   "parameters": {},
   "start_time": "2023-10-17T21:02:07.328357",
   "version": "2.4.0"
  }
 },
 "nbformat": 4,
 "nbformat_minor": 5
}

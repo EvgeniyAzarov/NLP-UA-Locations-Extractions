{
 "cells": [
  {
   "cell_type": "code",
   "execution_count": 39,
   "metadata": {},
   "outputs": [],
   "source": [
    "import pandas as pd"
   ]
  },
  {
   "cell_type": "code",
   "execution_count": 40,
   "metadata": {},
   "outputs": [],
   "source": [
    "df_test = pd.read_csv(\"../data/nlp-ua-locations-extractions/test.csv\")"
   ]
  },
  {
   "cell_type": "code",
   "execution_count": 41,
   "metadata": {},
   "outputs": [],
   "source": [
    "rows = []\n",
    "for text in df_test['text']:\n",
    "    rows.extend(text.split(\"\\n\"))"
   ]
  },
  {
   "cell_type": "code",
   "execution_count": 42,
   "metadata": {},
   "outputs": [],
   "source": [
    "rows = pd.Series(rows)"
   ]
  },
  {
   "cell_type": "code",
   "execution_count": 43,
   "metadata": {},
   "outputs": [
    {
     "data": {
      "text/plain": [
       "                                                                                            1035\n",
       "ㅤ                                                                                             33\n",
       "👉👉Запропонувати новину👈👈                                                                      24\n",
       "Підписатись на Дарниця Livе                                                                   24\n",
       "🔷 Підписатися на Telegram | Instagram | Facebook | TikTok                                     18\n",
       "Київ — пряма трансляція 👈                                                                     18\n",
       "                                                                                              17\n",
       "Життя🫶Оболонь                                                                                 17\n",
       "                                                                                              16\n",
       "Надіслати новину                                                                              16\n",
       "Підписатися    |    Запропонувати новину                                                      13\n",
       "Хуйовий Київ | Надіслати новину                                                               12\n",
       "@lossolomas_kyiv                                                                               7\n",
       " Хуйовий Київ | Надіслати новину                                                               6\n",
       "🔷 Підписатися на Telegram | Instagram | Facebook | TikTok                                      6\n",
       "@semenovatut                                                                                   5\n",
       "🇺🇦 Украина Сейчас / Подписаться                                                                5\n",
       "Слава Україні!                                                                                 5\n",
       "🍩 Задонейтити з банківської картки - https://otmb.link/blogw17                                 4\n",
       "🫙 Банка ОФІСУ ТРАНСФОРМАЦІЇ МАКСИМА БАХМАТОВА - https://send.monobank.ua/jar/7JH9ZHWKJ6        4\n",
       "❤️ Стати патроном на PATREON - https://otmb.link/blogp17                                       4\n",
       "Підтримати нас можна і потрібно тут:                                                           4\n",
       "Name: count, dtype: int64"
      ]
     },
     "execution_count": 43,
     "metadata": {},
     "output_type": "execute_result"
    }
   ],
   "source": [
    "counts = rows.value_counts()\n",
    "counts[counts >= 4]"
   ]
  },
  {
   "cell_type": "code",
   "execution_count": 44,
   "metadata": {},
   "outputs": [],
   "source": [
    "stop_rows = set(counts[counts >= 4].index)"
   ]
  },
  {
   "cell_type": "code",
   "execution_count": 45,
   "metadata": {},
   "outputs": [
    {
     "data": {
      "text/plain": [
       "{'',\n",
       " ' ',\n",
       " ' Хуйовий Київ | Надіслати новину',\n",
       " '@lossolomas_kyiv',\n",
       " '@semenovatut',\n",
       " '\\xa0',\n",
       " 'Життя🫶Оболонь',\n",
       " 'Київ — пряма трансляція 👈',\n",
       " 'Надіслати новину',\n",
       " 'Підписатись на Дарниця Livе',\n",
       " 'Підписатися\\xa0\\xa0\\xa0 |\\xa0\\xa0\\xa0 Запропонувати новину',\n",
       " 'Підтримати нас можна і потрібно тут:',\n",
       " 'Слава Україні!',\n",
       " 'Хуйовий Київ | Надіслати новину',\n",
       " '❤️ Стати патроном на PATREON - https://otmb.link/blogp17 ',\n",
       " 'ㅤ',\n",
       " '🇺🇦 Украина Сейчас / Подписаться',\n",
       " '🍩 Задонейтити з банківської картки - https://otmb.link/blogw17',\n",
       " '👉👉Запропонувати новину👈👈',\n",
       " '🔷 Підписатися на Telegram | Instagram | Facebook | TikTok',\n",
       " '🔷\\xa0Підписатися на Telegram\\xa0| Instagram\\xa0| Facebook\\xa0| TikTok',\n",
       " '🫙 Банка ОФІСУ ТРАНСФОРМАЦІЇ МАКСИМА БАХМАТОВА - https://send.monobank.ua/jar/7JH9ZHWKJ6 '}"
      ]
     },
     "execution_count": 45,
     "metadata": {},
     "output_type": "execute_result"
    }
   ],
   "source": [
    "stop_rows"
   ]
  },
  {
   "cell_type": "code",
   "execution_count": 46,
   "metadata": {},
   "outputs": [],
   "source": [
    "text = df_test.loc[1, \"text\"]"
   ]
  },
  {
   "cell_type": "code",
   "execution_count": 47,
   "metadata": {},
   "outputs": [],
   "source": [
    "def remove_stop_rows(text):\n",
    "    rows = text.split(\"\\n\")\n",
    "    res_rows = [row for row in rows if row not in stop_rows]\n",
    "    return '\\n'.join(res_rows)"
   ]
  },
  {
   "cell_type": "code",
   "execution_count": 48,
   "metadata": {},
   "outputs": [],
   "source": [
    "from tqdm.auto import tqdm\n",
    "tqdm.pandas()"
   ]
  },
  {
   "cell_type": "code",
   "execution_count": 49,
   "metadata": {},
   "outputs": [
    {
     "data": {
      "application/vnd.jupyter.widget-view+json": {
       "model_id": "310deae6fb354d15ab89ee0e8ca20df4",
       "version_major": 2,
       "version_minor": 0
      },
      "text/plain": [
       "  0%|          | 0/477 [00:00<?, ?it/s]"
      ]
     },
     "metadata": {},
     "output_type": "display_data"
    }
   ],
   "source": [
    "df_test['text_cleaned'] = df_test['text'].progress_apply(remove_stop_rows)"
   ]
  },
  {
   "cell_type": "code",
   "execution_count": 57,
   "metadata": {},
   "outputs": [
    {
     "data": {
      "text/plain": [
       "'Хуйовий Київ | Надіслати новину'"
      ]
     },
     "execution_count": 57,
     "metadata": {},
     "output_type": "execute_result"
    }
   ],
   "source": [
    "df_test.loc[454, \"text\"].split(\"\\n\")[2]"
   ]
  },
  {
   "cell_type": "code",
   "execution_count": 33,
   "metadata": {},
   "outputs": [],
   "source": [
    "df_test.to_csv(\"../data/nlp-ua-locations-extractions/df_test_processed.csv\", index=None)"
   ]
  },
  {
   "cell_type": "code",
   "execution_count": 58,
   "metadata": {},
   "outputs": [],
   "source": [
    "rows = []\n",
    "for text in df_test['text']:\n",
    "    rows.extend(text.split(\"\\n\"))\n",
    "\n",
    "rows = pd.Series(rows)\n",
    "rows_counts = rows.value_counts()\n",
    "stop_rows = set(rows_counts[rows_counts >= 4].index)\n",
    "\n",
    "def remove_stop_rows(text):\n",
    "    rows = text.split(\"\\n\")\n",
    "    res_rows = [row for row in rows if row not in stop_rows]\n",
    "    return '\\n'.join(res_rows)"
   ]
  },
  {
   "cell_type": "code",
   "execution_count": 59,
   "metadata": {},
   "outputs": [
    {
     "data": {
      "text/plain": [
       "{'',\n",
       " ' ',\n",
       " ' Хуйовий Київ | Надіслати новину',\n",
       " '@lossolomas_kyiv',\n",
       " '@semenovatut',\n",
       " '\\xa0',\n",
       " 'Життя🫶Оболонь',\n",
       " 'Київ — пряма трансляція 👈',\n",
       " 'Надіслати новину',\n",
       " 'Підписатись на Дарниця Livе',\n",
       " 'Підписатися\\xa0\\xa0\\xa0 |\\xa0\\xa0\\xa0 Запропонувати новину',\n",
       " 'Підтримати нас можна і потрібно тут:',\n",
       " 'Слава Україні!',\n",
       " 'Хуйовий Київ | Надіслати новину',\n",
       " '❤️ Стати патроном на PATREON - https://otmb.link/blogp17 ',\n",
       " 'ㅤ',\n",
       " '🇺🇦 Украина Сейчас / Подписаться',\n",
       " '🍩 Задонейтити з банківської картки - https://otmb.link/blogw17',\n",
       " '👉👉Запропонувати новину👈👈',\n",
       " '🔷 Підписатися на Telegram | Instagram | Facebook | TikTok',\n",
       " '🔷\\xa0Підписатися на Telegram\\xa0| Instagram\\xa0| Facebook\\xa0| TikTok',\n",
       " '🫙 Банка ОФІСУ ТРАНСФОРМАЦІЇ МАКСИМА БАХМАТОВА - https://send.monobank.ua/jar/7JH9ZHWKJ6 '}"
      ]
     },
     "execution_count": 59,
     "metadata": {},
     "output_type": "execute_result"
    }
   ],
   "source": [
    "stop_rows"
   ]
  }
 ],
 "metadata": {
  "kernelspec": {
   "display_name": "nlp-env",
   "language": "python",
   "name": "python3"
  },
  "language_info": {
   "codemirror_mode": {
    "name": "ipython",
    "version": 3
   },
   "file_extension": ".py",
   "mimetype": "text/x-python",
   "name": "python",
   "nbconvert_exporter": "python",
   "pygments_lexer": "ipython3",
   "version": "3.11.5"
  }
 },
 "nbformat": 4,
 "nbformat_minor": 2
}

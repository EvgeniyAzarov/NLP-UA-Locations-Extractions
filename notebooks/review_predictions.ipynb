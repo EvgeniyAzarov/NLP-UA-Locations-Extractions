{
 "cells": [
  {
   "cell_type": "markdown",
   "metadata": {},
   "source": [
    "# Review predictions"
   ]
  },
  {
   "cell_type": "code",
   "execution_count": 1,
   "metadata": {},
   "outputs": [],
   "source": [
    "import pandas as pd"
   ]
  },
  {
   "cell_type": "code",
   "execution_count": 3,
   "metadata": {},
   "outputs": [],
   "source": [
    "df_test = pd.read_csv(\"data/nlp-ua-locations-extractions/test.csv\")"
   ]
  },
  {
   "cell_type": "code",
   "execution_count": 4,
   "metadata": {},
   "outputs": [],
   "source": [
    "pred = pd.read_csv(\"submissions/multibert_w_langd_apstr.csv\")"
   ]
  },
  {
   "cell_type": "code",
   "execution_count": 6,
   "metadata": {},
   "outputs": [],
   "source": [
    "df_test['locations'] = pred['locations']"
   ]
  },
  {
   "cell_type": "code",
   "execution_count": 11,
   "metadata": {},
   "outputs": [],
   "source": [
    "import langid\n",
    "langid.set_languages([\"uk\", \"ru\"])"
   ]
  },
  {
   "cell_type": "code",
   "execution_count": 12,
   "metadata": {},
   "outputs": [],
   "source": [
    "df_test['lang'] = df_test['text'].apply(lambda x: langid.classify(x)[0])"
   ]
  },
  {
   "cell_type": "code",
   "execution_count": 13,
   "metadata": {},
   "outputs": [
    {
     "data": {
      "text/html": [
       "<div>\n",
       "<style scoped>\n",
       "    .dataframe tbody tr th:only-of-type {\n",
       "        vertical-align: middle;\n",
       "    }\n",
       "\n",
       "    .dataframe tbody tr th {\n",
       "        vertical-align: top;\n",
       "    }\n",
       "\n",
       "    .dataframe thead th {\n",
       "        text-align: right;\n",
       "    }\n",
       "</style>\n",
       "<table border=\"1\" class=\"dataframe\">\n",
       "  <thead>\n",
       "    <tr style=\"text-align: right;\">\n",
       "      <th></th>\n",
       "      <th>text_id</th>\n",
       "      <th>text</th>\n",
       "      <th>locations</th>\n",
       "      <th>lang</th>\n",
       "    </tr>\n",
       "  </thead>\n",
       "  <tbody>\n",
       "    <tr>\n",
       "      <th>0</th>\n",
       "      <td>0</td>\n",
       "      <td>❗️Кількість поранених зросла до трьох, – Кличк...</td>\n",
       "      <td>[]</td>\n",
       "      <td>uk</td>\n",
       "    </tr>\n",
       "    <tr>\n",
       "      <th>1</th>\n",
       "      <td>1</td>\n",
       "      <td>🥤В Києві за 91,13 млн гривень починаються робо...</td>\n",
       "      <td>['Києві', 'Шулявського шляхопроводу']</td>\n",
       "      <td>uk</td>\n",
       "    </tr>\n",
       "    <tr>\n",
       "      <th>2</th>\n",
       "      <td>2</td>\n",
       "      <td>▪️Сьогодні вночі росіяни завдали ракетного уда...</td>\n",
       "      <td>['Гоголеве', 'Миргородського району', 'Полтавс...</td>\n",
       "      <td>uk</td>\n",
       "    </tr>\n",
       "    <tr>\n",
       "      <th>3</th>\n",
       "      <td>3</td>\n",
       "      <td>Наразі у запасах росіян найбільше балістичних ...</td>\n",
       "      <td>[]</td>\n",
       "      <td>uk</td>\n",
       "    </tr>\n",
       "    <tr>\n",
       "      <th>4</th>\n",
       "      <td>4</td>\n",
       "      <td>⛸В один день, 29 серпня, ДП \"Центральна учбово...</td>\n",
       "      <td>['проспекті Академіка Глушкова, 9']</td>\n",
       "      <td>uk</td>\n",
       "    </tr>\n",
       "    <tr>\n",
       "      <th>...</th>\n",
       "      <td>...</td>\n",
       "      <td>...</td>\n",
       "      <td>...</td>\n",
       "      <td>...</td>\n",
       "    </tr>\n",
       "    <tr>\n",
       "      <th>472</th>\n",
       "      <td>472</td>\n",
       "      <td>Допомога на відновлення: п’ять громад Київщини...</td>\n",
       "      <td>['Київщини', 'Україні', 'Київської області', '...</td>\n",
       "      <td>uk</td>\n",
       "    </tr>\n",
       "    <tr>\n",
       "      <th>473</th>\n",
       "      <td>473</td>\n",
       "      <td>Пророцтво Стругацьких: незвичайна бактерія Бра...</td>\n",
       "      <td>['Землі']</td>\n",
       "      <td>uk</td>\n",
       "    </tr>\n",
       "    <tr>\n",
       "      <th>474</th>\n",
       "      <td>474</td>\n",
       "      <td>Із 1 вересня УГКЦ і ПЦУ перейшли на новий церк...</td>\n",
       "      <td>[]</td>\n",
       "      <td>uk</td>\n",
       "    </tr>\n",
       "    <tr>\n",
       "      <th>475</th>\n",
       "      <td>475</td>\n",
       "      <td>🦇 У Києві з Дніпра виловили іноземця в масці Б...</td>\n",
       "      <td>['Києві', 'Дніпра', 'Дніпро']</td>\n",
       "      <td>uk</td>\n",
       "    </tr>\n",
       "    <tr>\n",
       "      <th>476</th>\n",
       "      <td>476</td>\n",
       "      <td>У Києві виявили парковку з машинами на мільйон...</td>\n",
       "      <td>['Києві']</td>\n",
       "      <td>uk</td>\n",
       "    </tr>\n",
       "  </tbody>\n",
       "</table>\n",
       "<p>477 rows × 4 columns</p>\n",
       "</div>"
      ],
      "text/plain": [
       "     text_id                                               text  \\\n",
       "0          0  ❗️Кількість поранених зросла до трьох, – Кличк...   \n",
       "1          1  🥤В Києві за 91,13 млн гривень починаються робо...   \n",
       "2          2  ▪️Сьогодні вночі росіяни завдали ракетного уда...   \n",
       "3          3  Наразі у запасах росіян найбільше балістичних ...   \n",
       "4          4  ⛸В один день, 29 серпня, ДП \"Центральна учбово...   \n",
       "..       ...                                                ...   \n",
       "472      472  Допомога на відновлення: п’ять громад Київщини...   \n",
       "473      473  Пророцтво Стругацьких: незвичайна бактерія Бра...   \n",
       "474      474  Із 1 вересня УГКЦ і ПЦУ перейшли на новий церк...   \n",
       "475      475  🦇 У Києві з Дніпра виловили іноземця в масці Б...   \n",
       "476      476  У Києві виявили парковку з машинами на мільйон...   \n",
       "\n",
       "                                             locations lang  \n",
       "0                                                   []   uk  \n",
       "1                ['Києві', 'Шулявського шляхопроводу']   uk  \n",
       "2    ['Гоголеве', 'Миргородського району', 'Полтавс...   uk  \n",
       "3                                                   []   uk  \n",
       "4                  ['проспекті Академіка Глушкова, 9']   uk  \n",
       "..                                                 ...  ...  \n",
       "472  ['Київщини', 'Україні', 'Київської області', '...   uk  \n",
       "473                                          ['Землі']   uk  \n",
       "474                                                 []   uk  \n",
       "475                      ['Києві', 'Дніпра', 'Дніпро']   uk  \n",
       "476                                          ['Києві']   uk  \n",
       "\n",
       "[477 rows x 4 columns]"
      ]
     },
     "execution_count": 13,
     "metadata": {},
     "output_type": "execute_result"
    }
   ],
   "source": [
    "df_test"
   ]
  },
  {
   "cell_type": "code",
   "execution_count": 14,
   "metadata": {},
   "outputs": [],
   "source": [
    "df_test.to_csv(\"review_pred.csv\", index=None)"
   ]
  }
 ],
 "metadata": {
  "kernelspec": {
   "display_name": "iasa_nlp_env",
   "language": "python",
   "name": "python3"
  },
  "language_info": {
   "codemirror_mode": {
    "name": "ipython",
    "version": 3
   },
   "file_extension": ".py",
   "mimetype": "text/x-python",
   "name": "python",
   "nbconvert_exporter": "python",
   "pygments_lexer": "ipython3",
   "version": "3.9.18"
  }
 },
 "nbformat": 4,
 "nbformat_minor": 2
}

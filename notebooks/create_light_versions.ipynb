{
 "cells": [
  {
   "cell_type": "markdown",
   "metadata": {},
   "source": [
    "# Create light versions of uk and ru datasets"
   ]
  },
  {
   "cell_type": "code",
   "execution_count": 14,
   "metadata": {},
   "outputs": [],
   "source": [
    "import pandas as pd\n",
    "import os\n",
    "DATA_PATH = \"../data/\" "
   ]
  },
  {
   "cell_type": "code",
   "execution_count": 2,
   "metadata": {},
   "outputs": [],
   "source": [
    "N_train = 100000\n",
    "N_val = 10000"
   ]
  },
  {
   "cell_type": "markdown",
   "metadata": {},
   "source": [
    "## Ru dataset"
   ]
  },
  {
   "cell_type": "code",
   "execution_count": null,
   "metadata": {},
   "outputs": [],
   "source": [
    "ru_geo_dataset = pd.read_csv(os.path.join(DATASETS_PATH, 'ru_geo_dataset.csv'), converters={\"loc_markers\": eval})"
   ]
  },
  {
   "cell_type": "code",
   "execution_count": null,
   "metadata": {},
   "outputs": [],
   "source": [
    "ru_geo_dataset_light = ru_geo_dataset.groupby('doc_id').first()\\\n",
    "    .sample(N_train + N_val, random_state=42).reset_index()"
   ]
  },
  {
   "cell_type": "code",
   "execution_count": null,
   "metadata": {},
   "outputs": [],
   "source": [
    "ru_geo_dataset_light['num_loc'] = ru_geo_dataset_light['loc_markers'].apply(len)\n",
    "ru_geo_dataset_light.loc[ru_geo_dataset_light['num_loc'].isin([10, 11, 12, 13, 14]), 'num_loc'] = -1\n"
   ]
  },
  {
   "cell_type": "code",
   "execution_count": null,
   "metadata": {},
   "outputs": [],
   "source": [
    "# to avoid copying the dataset, mark valid inplace (may be cruacial when using full dataset)\n",
    "train_idx, val_idx = train_test_split(ru_geo_dataset_light.index, stratify=ru_geo_dataset_light['num_loc'], test_size=N_val)\n",
    "\n",
    "ru_geo_dataset_light['is_valid'] = 0\n",
    "ru_geo_dataset_light.loc[val_idx, 'is_valid'] = 1"
   ]
  },
  {
   "cell_type": "code",
   "execution_count": null,
   "metadata": {},
   "outputs": [],
   "source": [
    "ru_geo_dataset_light[['text', 'loc_markers', 'is_valid']].to_csv(os.path.join(DATA_PATH, \"../data/ru_geo_dataset_light.csv\"), index=None)"
   ]
  },
  {
   "cell_type": "markdown",
   "metadata": {},
   "source": [
    "## Uk dataset"
   ]
  },
  {
   "cell_type": "code",
   "execution_count": 5,
   "metadata": {},
   "outputs": [],
   "source": [
    "uk_geo_dataset = pd.read_csv(os.path.join(DATASETS_PATH, 'uk_geo_dataset.csv'), converters={\"loc_markers\": eval})"
   ]
  },
  {
   "cell_type": "code",
   "execution_count": 10,
   "metadata": {},
   "outputs": [],
   "source": [
    "uk_geo_dataset_light_val = uk_geo_dataset[uk_geo_dataset['is_valid'] == 1]\n",
    "uk_geo_dataset_light_train = uk_geo_dataset[uk_geo_dataset['is_valid'] == 0].sample(N_train, random_state=42)\n",
    "uk_geo_dataset_light = pd.concat([uk_geo_dataset_light_train, uk_geo_dataset_light_val])"
   ]
  },
  {
   "cell_type": "code",
   "execution_count": 15,
   "metadata": {},
   "outputs": [],
   "source": [
    "uk_geo_dataset_light[['text', 'loc_markers', 'is_valid']].to_csv(os.path.join(DATA_PATH, \"../data/uk_geo_dataset_light.csv\"), index=None)"
   ]
  },
  {
   "cell_type": "markdown",
   "metadata": {},
   "source": []
  }
 ],
 "metadata": {
  "kernelspec": {
   "display_name": "iasa_nlp_env",
   "language": "python",
   "name": "python3"
  },
  "language_info": {
   "codemirror_mode": {
    "name": "ipython",
    "version": 3
   },
   "file_extension": ".py",
   "mimetype": "text/x-python",
   "name": "python",
   "nbconvert_exporter": "python",
   "pygments_lexer": "ipython3",
   "version": "3.9.18"
  }
 },
 "nbformat": 4,
 "nbformat_minor": 2
}

{
 "cells": [
  {
   "cell_type": "code",
   "execution_count": 1,
   "metadata": {},
   "outputs": [],
   "source": [
    "from app.location_predictor import LocationPredictor"
   ]
  },
  {
   "cell_type": "code",
   "execution_count": 2,
   "metadata": {},
   "outputs": [],
   "source": [
    "model_checkpoint_uk = \"models/model-uk/checkpoint-14096/\"\n",
    "model_checkpoint_ru = \"models/model-ru/checkpoint-12500/\""
   ]
  },
  {
   "cell_type": "code",
   "execution_count": 3,
   "metadata": {},
   "outputs": [],
   "source": [
    "model = LocationPredictor(\n",
    "    chekpoint_path_uk=model_checkpoint_uk,\n",
    "    chekpoint_path_ru=model_checkpoint_ru,\n",
    "    stoprows_path=\"models/stoprows.json\"\n",
    ")"
   ]
  },
  {
   "cell_type": "code",
   "execution_count": 4,
   "metadata": {},
   "outputs": [],
   "source": [
    "test_texts = [\n",
    "\"\"\"⚡️Заклади громадського харчування Києва продовжать час роботи на одну годину – до 23:00.\n",
    "\n",
    "Таке рішення ухвалила Рада оборони міста Києва. В силу воно вступить з 1 вересня. \n",
    "\n",
    "Мер Києва Віталій Кличко нагадав, що з таким проханням до міської влади звернулися представники Національної ресторанної асоціації України. Адже рішення про обмеження роботи закладів до 22:00 було ухвалене, коли комендантська година в столиці розпочиналася о 23:00. Зараз же вона – з 00:00.\n",
    "\n",
    "Підприємці під час зустрічі з міською владою, де обгрунтовували доцільність такого рішення, наголошували, що подовження часу роботи закладів сприятиме поліпшенню економічної ситуації у столиці, створенню додаткових робочих місць, збільшенню надходжень від податків, зборів і платежів до бюджетів усіх рівнів.\n",
    "\n",
    "Життя🫶Оболонь\"\"\",\n",
    "\"\"\"😱 Сьогодні у Києві повітря більш забруднене, ніж зазвичай\n",
    "\n",
    "На Харківському масиві шостий день поспіль спостерігається перевищення гранично допустимої концентрації сірководню.\n",
    "\n",
    "Про це повідомляє Департамент захисту довкілля та адаптації до зміни клімату Київської міської державної адміністрації.\n",
    "\n",
    "На лівому березі моніторинг на Харківському шосе показав індекс 55, а на вулиці Архітектора Вербицького – 52.  \n",
    "\n",
    "Як зазначається, середній рівень забруднення повітря, який локально зафіксований у місті, спричинений незначним збільшенням концентрації пилу фракцій 2,5 та 10 мкм.\n",
    "\n",
    "На правому березі пункт моніторингу на вулиці Турівській зафіксував позначку – 34, на Щусєва – 33, на проспекті Правди – 31, а на вулиці Китаївській – 37.\n",
    "\n",
    "Радіаційний фон у всьому місті – в нормі.\n",
    "ㅤ\"\"\"\n",
    "]"
   ]
  },
  {
   "cell_type": "code",
   "execution_count": 5,
   "metadata": {},
   "outputs": [
    {
     "data": {
      "text/plain": [
       "[['Києва', 'Києва'],\n",
       " ['Києві',\n",
       "  'Харківському масиві',\n",
       "  'Харківському шосе',\n",
       "  'вулиці Архітектора Вербицького',\n",
       "  'вулиці\\xa0Турівській',\n",
       "  'Щусєва –\\xa033',\n",
       "  'проспекті\\xa0Правди –\\xa031',\n",
       "  'вулиці\\xa0Китаївській –\\xa037']]"
      ]
     },
     "execution_count": 5,
     "metadata": {},
     "output_type": "execute_result"
    }
   ],
   "source": [
    "loc_pred = model.predict(test_texts)\n",
    "loc_pred"
   ]
  },
  {
   "cell_type": "code",
   "execution_count": 6,
   "metadata": {},
   "outputs": [],
   "source": [
    "import pandas as pd"
   ]
  },
  {
   "cell_type": "code",
   "execution_count": 7,
   "metadata": {},
   "outputs": [],
   "source": [
    "df_test = pd.read_csv(\"data/nlp-ua-locations-extractions/test.csv\")"
   ]
  },
  {
   "cell_type": "code",
   "execution_count": 8,
   "metadata": {},
   "outputs": [
    {
     "data": {
      "application/vnd.jupyter.widget-view+json": {
       "model_id": "ea7302e5b52f4947bb7cd13cd9cccc6b",
       "version_major": 2,
       "version_minor": 0
      },
      "text/plain": [
       "  0%|          | 0/477 [00:00<?, ?it/s]"
      ]
     },
     "metadata": {},
     "output_type": "display_data"
    }
   ],
   "source": [
    "preds = model.predict(df_test['text'], verbose=True)"
   ]
  },
  {
   "cell_type": "code",
   "execution_count": 9,
   "metadata": {},
   "outputs": [],
   "source": [
    "df_test['locations'] = preds"
   ]
  },
  {
   "cell_type": "code",
   "execution_count": 10,
   "metadata": {},
   "outputs": [
    {
     "data": {
      "text/html": [
       "<div>\n",
       "<style scoped>\n",
       "    .dataframe tbody tr th:only-of-type {\n",
       "        vertical-align: middle;\n",
       "    }\n",
       "\n",
       "    .dataframe tbody tr th {\n",
       "        vertical-align: top;\n",
       "    }\n",
       "\n",
       "    .dataframe thead th {\n",
       "        text-align: right;\n",
       "    }\n",
       "</style>\n",
       "<table border=\"1\" class=\"dataframe\">\n",
       "  <thead>\n",
       "    <tr style=\"text-align: right;\">\n",
       "      <th></th>\n",
       "      <th>text_id</th>\n",
       "      <th>text</th>\n",
       "      <th>locations</th>\n",
       "    </tr>\n",
       "  </thead>\n",
       "  <tbody>\n",
       "    <tr>\n",
       "      <th>0</th>\n",
       "      <td>0</td>\n",
       "      <td>❗️Кількість поранених зросла до трьох, – Кличк...</td>\n",
       "      <td>[]</td>\n",
       "    </tr>\n",
       "    <tr>\n",
       "      <th>1</th>\n",
       "      <td>1</td>\n",
       "      <td>🥤В Києві за 91,13 млн гривень починаються робо...</td>\n",
       "      <td>[Києві, Шулявського шляхопроводу, Шулявського]</td>\n",
       "    </tr>\n",
       "    <tr>\n",
       "      <th>2</th>\n",
       "      <td>2</td>\n",
       "      <td>▪️Сьогодні вночі росіяни завдали ракетного уда...</td>\n",
       "      <td>[Гоголеве, Миргородського району, Полтавської ...</td>\n",
       "    </tr>\n",
       "    <tr>\n",
       "      <th>3</th>\n",
       "      <td>3</td>\n",
       "      <td>Наразі у запасах росіян найбільше балістичних ...</td>\n",
       "      <td>[]</td>\n",
       "    </tr>\n",
       "    <tr>\n",
       "      <th>4</th>\n",
       "      <td>4</td>\n",
       "      <td>⛸В один день, 29 серпня, ДП \"Центральна учбово...</td>\n",
       "      <td>[проспекті Академіка Глушкова, 9]</td>\n",
       "    </tr>\n",
       "    <tr>\n",
       "      <th>...</th>\n",
       "      <td>...</td>\n",
       "      <td>...</td>\n",
       "      <td>...</td>\n",
       "    </tr>\n",
       "    <tr>\n",
       "      <th>472</th>\n",
       "      <td>472</td>\n",
       "      <td>Допомога на відновлення: п’ять громад Київщини...</td>\n",
       "      <td>[Київщини, Україні, Київської області, Бучансь...</td>\n",
       "    </tr>\n",
       "    <tr>\n",
       "      <th>473</th>\n",
       "      <td>473</td>\n",
       "      <td>Пророцтво Стругацьких: незвичайна бактерія Бра...</td>\n",
       "      <td>[Землі]</td>\n",
       "    </tr>\n",
       "    <tr>\n",
       "      <th>474</th>\n",
       "      <td>474</td>\n",
       "      <td>Із 1 вересня УГКЦ і ПЦУ перейшли на новий церк...</td>\n",
       "      <td>[]</td>\n",
       "    </tr>\n",
       "    <tr>\n",
       "      <th>475</th>\n",
       "      <td>475</td>\n",
       "      <td>🦇 У Києві з Дніпра виловили іноземця в масці Б...</td>\n",
       "      <td>[Києві, Дніпра, Дніпро]</td>\n",
       "    </tr>\n",
       "    <tr>\n",
       "      <th>476</th>\n",
       "      <td>476</td>\n",
       "      <td>У Києві виявили парковку з машинами на мільйон...</td>\n",
       "      <td>[Києві]</td>\n",
       "    </tr>\n",
       "  </tbody>\n",
       "</table>\n",
       "<p>477 rows × 3 columns</p>\n",
       "</div>"
      ],
      "text/plain": [
       "     text_id                                               text  \\\n",
       "0          0  ❗️Кількість поранених зросла до трьох, – Кличк...   \n",
       "1          1  🥤В Києві за 91,13 млн гривень починаються робо...   \n",
       "2          2  ▪️Сьогодні вночі росіяни завдали ракетного уда...   \n",
       "3          3  Наразі у запасах росіян найбільше балістичних ...   \n",
       "4          4  ⛸В один день, 29 серпня, ДП \"Центральна учбово...   \n",
       "..       ...                                                ...   \n",
       "472      472  Допомога на відновлення: п’ять громад Київщини...   \n",
       "473      473  Пророцтво Стругацьких: незвичайна бактерія Бра...   \n",
       "474      474  Із 1 вересня УГКЦ і ПЦУ перейшли на новий церк...   \n",
       "475      475  🦇 У Києві з Дніпра виловили іноземця в масці Б...   \n",
       "476      476  У Києві виявили парковку з машинами на мільйон...   \n",
       "\n",
       "                                             locations  \n",
       "0                                                   []  \n",
       "1       [Києві, Шулявського шляхопроводу, Шулявського]  \n",
       "2    [Гоголеве, Миргородського району, Полтавської ...  \n",
       "3                                                   []  \n",
       "4                    [проспекті Академіка Глушкова, 9]  \n",
       "..                                                 ...  \n",
       "472  [Київщини, Україні, Київської області, Бучансь...  \n",
       "473                                            [Землі]  \n",
       "474                                                 []  \n",
       "475                            [Києві, Дніпра, Дніпро]  \n",
       "476                                            [Києві]  \n",
       "\n",
       "[477 rows x 3 columns]"
      ]
     },
     "execution_count": 10,
     "metadata": {},
     "output_type": "execute_result"
    }
   ],
   "source": [
    "df_test"
   ]
  },
  {
   "cell_type": "code",
   "execution_count": 11,
   "metadata": {},
   "outputs": [],
   "source": [
    "df_test.to_csv(\"submission.csv\", index=None)"
   ]
  },
  {
   "cell_type": "code",
   "execution_count": null,
   "metadata": {},
   "outputs": [],
   "source": []
  },
  {
   "cell_type": "markdown",
   "metadata": {},
   "source": [
    "## API"
   ]
  },
  {
   "cell_type": "code",
   "execution_count": 5,
   "metadata": {},
   "outputs": [],
   "source": [
    "import requests\n",
    "import json"
   ]
  },
  {
   "cell_type": "code",
   "execution_count": 36,
   "metadata": {},
   "outputs": [],
   "source": [
    "test_texts = [\n",
    "\"Сьогодні у Києві повітря більш забруднене, ніж зазвичай \\n\\nНа Харківському масиві шостий день поспіль спостерігається перевищення гранично допустимої концентрації сірководню. \\n\\nНа лівому березі моніторинг на Харківському шосе показав індекс 55, а на вулиці Архітектора Вербицького – 52.  \\n\\nНа правому березі пункт моніторингу на вулиці Турівській зафіксував позначку – 34, на Щусєва – 33, на проспекті Правди – 31, а на вулиці Китаївській – 37.\",\n",
    "\"Житомирська область, до уваги водіїв ❗️\\n\\nУ зв’язку з дорожньо-транспортною пригодою з потерпілими, що сталася, близько 18-ї години, на 132 км автодороги М-06 Київ — Чоп (поблизу села Вереси Житомирської області), рух транспорту частково ускладнений в обох напрямках.\\n\\nПлануйте маршрут своєї поїздки з урахуванням цієї інформації. \\n\\nПідписатися | Запропонувати новину | Реклама | Автострахування | Страхування життя \"\n",
    "]"
   ]
  },
  {
   "cell_type": "code",
   "execution_count": 37,
   "metadata": {},
   "outputs": [],
   "source": [
    "url = \"https://ua-locations-b257fnr7mq-uc.a.run.app/api/extract_locations/\""
   ]
  },
  {
   "cell_type": "code",
   "execution_count": 38,
   "metadata": {},
   "outputs": [],
   "source": [
    "response = requests.post(url, data=json.dumps({\"texts\": test_texts}))"
   ]
  },
  {
   "cell_type": "code",
   "execution_count": 39,
   "metadata": {},
   "outputs": [
    {
     "name": "stdout",
     "output_type": "stream",
     "text": [
      "[\n",
      "    [\n",
      "        \"Києві\",\n",
      "        \"Харківському масиві\",\n",
      "        \"Харківському шосе\",\n",
      "        \"вулиці Архітектора Вербицького\",\n",
      "        \"вулиці Турівській\",\n",
      "        \"Щусєва – 33\",\n",
      "        \"проспекті Правди – 31\",\n",
      "        \"вулиці Китаївській\"\n",
      "    ],\n",
      "    [\n",
      "        \"М-06\",\n",
      "        \"Чоп\",\n",
      "        \"Вереси\",\n",
      "        \"Житомирської області\"\n",
      "    ]\n",
      "]\n"
     ]
    }
   ],
   "source": [
    "print(json.dumps(json.loads(response.text), indent=4, ensure_ascii=False))"
   ]
  },
  {
   "cell_type": "code",
   "execution_count": null,
   "metadata": {},
   "outputs": [],
   "source": []
  },
  {
   "cell_type": "code",
   "execution_count": null,
   "metadata": {},
   "outputs": [],
   "source": []
  }
 ],
 "metadata": {
  "kernelspec": {
   "display_name": ".venv",
   "language": "python",
   "name": "python3"
  },
  "language_info": {
   "codemirror_mode": {
    "name": "ipython",
    "version": 3
   },
   "file_extension": ".py",
   "mimetype": "text/x-python",
   "name": "python",
   "nbconvert_exporter": "python",
   "pygments_lexer": "ipython3",
   "version": "3.11.5"
  }
 },
 "nbformat": 4,
 "nbformat_minor": 2
}
